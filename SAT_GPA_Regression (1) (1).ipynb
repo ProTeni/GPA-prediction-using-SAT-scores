{
 "cells": [
  {
   "cell_type": "markdown",
   "id": "cd40551e",
   "metadata": {},
   "source": [
    "### <font color = 'green'> Predicting Student GPA from their SATs (An Hypothetical study)\n",
    "\n",
    "\n",
    "\n",
    "A university redefined its success metrics to aim for 70% of its graduates achieving high GPAs after completing their studies.  \n",
    "\n",
    "To accomplish this, they analyzed historical data of students' SAT scores and their corresponding GPAs. Since the data is recent (collected in 2022) and intended to build a model predicting prospective students' academic performance (i.e., their GPA in the following year), it was utilized to develop a predictive model.  \n",
    "\n",
    "Because the dataset contains only one independent variable (SAT scores) and one dependent variable (GPA), a simple linear regression model was chosen. This approach uses a straight-line equation to establish the relationship between the features.\n",
    "\n"
   ]
  },
  {
   "cell_type": "markdown",
   "id": "0158d0b2",
   "metadata": {},
   "source": [
    "<img src=\"./Images/istockphoto-1146185198-612x612.jpg\" alt=\"Image\" style=\"width:100%;\">"
   ]
  },
  {
   "cell_type": "markdown",
   "id": "8b395d1f",
   "metadata": {},
   "source": [
    "## <font color = 'green'> Begin The Analyses\n",
    "\n",
    "---"
   ]
  },
  {
   "cell_type": "markdown",
   "id": "fb3e8644",
   "metadata": {},
   "source": [
    "##### <font color = 'green'> __Import Libraries__"
   ]
  },
  {
   "cell_type": "code",
   "execution_count": 6,
   "id": "9e5b068f",
   "metadata": {},
   "outputs": [],
   "source": [
    "import pandas as pd\n",
    "import seaborn as sns\n",
    "import matplotlib.pyplot as plt\n",
    "import numpy as np"
   ]
  },
  {
   "cell_type": "markdown",
   "id": "bef68b4c",
   "metadata": {},
   "source": [
    "##### <font color = 'green'> **Read the Data**"
   ]
  },
  {
   "cell_type": "code",
   "execution_count": 7,
   "id": "8ae8924d",
   "metadata": {},
   "outputs": [],
   "source": [
    "score = pd.read_csv(r'./SAT_GPA.csv')"
   ]
  },
  {
   "cell_type": "markdown",
   "id": "ba7046de",
   "metadata": {},
   "source": [
    "##### <font color = 'green'> __Assess the data__"
   ]
  },
  {
   "cell_type": "code",
   "execution_count": 8,
   "id": "4409473c",
   "metadata": {},
   "outputs": [
    {
     "name": "stdout",
     "output_type": "stream",
     "text": [
      "<class 'pandas.core.frame.DataFrame'>\n",
      "RangeIndex: 100 entries, 0 to 99\n",
      "Data columns (total 2 columns):\n",
      " #   Column  Non-Null Count  Dtype  \n",
      "---  ------  --------------  -----  \n",
      " 0   SAT     100 non-null    int64  \n",
      " 1   GPA     100 non-null    float64\n",
      "dtypes: float64(1), int64(1)\n",
      "memory usage: 1.7 KB\n"
     ]
    }
   ],
   "source": [
    "score.info()\n",
    "\n",
    "# the data-types for both columns are correct."
   ]
  },
  {
   "cell_type": "code",
   "execution_count": 9,
   "id": "e6ff8b57",
   "metadata": {},
   "outputs": [
    {
     "data": {
      "text/plain": [
       "SAT    0\n",
       "GPA    0\n",
       "dtype: int64"
      ]
     },
     "execution_count": 9,
     "metadata": {},
     "output_type": "execute_result"
    }
   ],
   "source": [
    "score.isnull().sum()\n",
    "\n",
    "# there are no null data"
   ]
  },
  {
   "cell_type": "code",
   "execution_count": 10,
   "id": "fd818d67",
   "metadata": {
    "scrolled": true
   },
   "outputs": [
    {
     "data": {
      "text/html": [
       "<div>\n",
       "<style scoped>\n",
       "    .dataframe tbody tr th:only-of-type {\n",
       "        vertical-align: middle;\n",
       "    }\n",
       "\n",
       "    .dataframe tbody tr th {\n",
       "        vertical-align: top;\n",
       "    }\n",
       "\n",
       "    .dataframe thead th {\n",
       "        text-align: right;\n",
       "    }\n",
       "</style>\n",
       "<table border=\"1\" class=\"dataframe\">\n",
       "  <thead>\n",
       "    <tr style=\"text-align: right;\">\n",
       "      <th></th>\n",
       "      <th>SAT</th>\n",
       "      <th>GPA</th>\n",
       "    </tr>\n",
       "  </thead>\n",
       "  <tbody>\n",
       "    <tr>\n",
       "      <th>0</th>\n",
       "      <td>1714</td>\n",
       "      <td>2.40</td>\n",
       "    </tr>\n",
       "    <tr>\n",
       "      <th>1</th>\n",
       "      <td>1664</td>\n",
       "      <td>2.52</td>\n",
       "    </tr>\n",
       "    <tr>\n",
       "      <th>2</th>\n",
       "      <td>1760</td>\n",
       "      <td>2.54</td>\n",
       "    </tr>\n",
       "    <tr>\n",
       "      <th>3</th>\n",
       "      <td>1685</td>\n",
       "      <td>2.74</td>\n",
       "    </tr>\n",
       "    <tr>\n",
       "      <th>4</th>\n",
       "      <td>1693</td>\n",
       "      <td>2.83</td>\n",
       "    </tr>\n",
       "  </tbody>\n",
       "</table>\n",
       "</div>"
      ],
      "text/plain": [
       "    SAT   GPA\n",
       "0  1714  2.40\n",
       "1  1664  2.52\n",
       "2  1760  2.54\n",
       "3  1685  2.74\n",
       "4  1693  2.83"
      ]
     },
     "execution_count": 10,
     "metadata": {},
     "output_type": "execute_result"
    }
   ],
   "source": [
    "score.head()"
   ]
  },
  {
   "cell_type": "code",
   "execution_count": 11,
   "id": "a120e300",
   "metadata": {},
   "outputs": [
    {
     "data": {
      "text/html": [
       "<div>\n",
       "<style scoped>\n",
       "    .dataframe tbody tr th:only-of-type {\n",
       "        vertical-align: middle;\n",
       "    }\n",
       "\n",
       "    .dataframe tbody tr th {\n",
       "        vertical-align: top;\n",
       "    }\n",
       "\n",
       "    .dataframe thead th {\n",
       "        text-align: right;\n",
       "    }\n",
       "</style>\n",
       "<table border=\"1\" class=\"dataframe\">\n",
       "  <thead>\n",
       "    <tr style=\"text-align: right;\">\n",
       "      <th></th>\n",
       "      <th>SAT</th>\n",
       "      <th>GPA</th>\n",
       "    </tr>\n",
       "  </thead>\n",
       "  <tbody>\n",
       "    <tr>\n",
       "      <th>count</th>\n",
       "      <td>100.000000</td>\n",
       "      <td>100.000000</td>\n",
       "    </tr>\n",
       "    <tr>\n",
       "      <th>mean</th>\n",
       "      <td>1850.760000</td>\n",
       "      <td>3.360500</td>\n",
       "    </tr>\n",
       "    <tr>\n",
       "      <th>std</th>\n",
       "      <td>101.566331</td>\n",
       "      <td>0.258845</td>\n",
       "    </tr>\n",
       "    <tr>\n",
       "      <th>min</th>\n",
       "      <td>1634.000000</td>\n",
       "      <td>2.400000</td>\n",
       "    </tr>\n",
       "    <tr>\n",
       "      <th>25%</th>\n",
       "      <td>1776.500000</td>\n",
       "      <td>3.270000</td>\n",
       "    </tr>\n",
       "    <tr>\n",
       "      <th>50%</th>\n",
       "      <td>1850.000000</td>\n",
       "      <td>3.410000</td>\n",
       "    </tr>\n",
       "    <tr>\n",
       "      <th>75%</th>\n",
       "      <td>1934.000000</td>\n",
       "      <td>3.520000</td>\n",
       "    </tr>\n",
       "    <tr>\n",
       "      <th>max</th>\n",
       "      <td>2050.000000</td>\n",
       "      <td>3.810000</td>\n",
       "    </tr>\n",
       "  </tbody>\n",
       "</table>\n",
       "</div>"
      ],
      "text/plain": [
       "               SAT         GPA\n",
       "count   100.000000  100.000000\n",
       "mean   1850.760000    3.360500\n",
       "std     101.566331    0.258845\n",
       "min    1634.000000    2.400000\n",
       "25%    1776.500000    3.270000\n",
       "50%    1850.000000    3.410000\n",
       "75%    1934.000000    3.520000\n",
       "max    2050.000000    3.810000"
      ]
     },
     "execution_count": 11,
     "metadata": {},
     "output_type": "execute_result"
    }
   ],
   "source": [
    "score.describe()"
   ]
  },
  {
   "cell_type": "markdown",
   "id": "19ad4fbc",
   "metadata": {},
   "source": [
    "__<font color = 'green'> Statistics Insights </font>__:\n",
    "\n",
    "\n",
    "- SAT Scores:\n",
    "The SAT scores of 100 students have a mean of 1850, with a minimum of 1634 and a maximum of 2050. The median is also 1850, suggesting the data is symmetrical. However, the standard deviation is 101.57, indicating a significant spread in scores. While 50% of students scored between 1777 and 1934 (the interquartile range), the high standard deviation shows that not all students are close to the maximum score. Most students performed in the mid-range, with only a few achieving top scores.\n",
    "\n",
    "- GPA Scores:\n",
    "The average GPA is 3.36, with scores ranging from 2.4 to 3.81. The median GPA is 3.41, slightly higher than the mean, suggesting a slight negative skew in the data. The interquartile range is narrow (3.27 to 3.52), and the standard deviation is only 0.26, indicating that most students’ GPAs are clustered closely together. This suggests consistent academic performance among the majority of students."
   ]
  },
  {
   "cell_type": "code",
   "execution_count": 12,
   "id": "1400120d",
   "metadata": {},
   "outputs": [
    {
     "data": {
      "text/html": [
       "<div>\n",
       "<style scoped>\n",
       "    .dataframe tbody tr th:only-of-type {\n",
       "        vertical-align: middle;\n",
       "    }\n",
       "\n",
       "    .dataframe tbody tr th {\n",
       "        vertical-align: top;\n",
       "    }\n",
       "\n",
       "    .dataframe thead th {\n",
       "        text-align: right;\n",
       "    }\n",
       "</style>\n",
       "<table border=\"1\" class=\"dataframe\">\n",
       "  <thead>\n",
       "    <tr style=\"text-align: right;\">\n",
       "      <th></th>\n",
       "      <th>SAT</th>\n",
       "      <th>GPA</th>\n",
       "    </tr>\n",
       "  </thead>\n",
       "  <tbody>\n",
       "    <tr>\n",
       "      <th>SAT</th>\n",
       "      <td>1.000000</td>\n",
       "      <td>0.612552</td>\n",
       "    </tr>\n",
       "    <tr>\n",
       "      <th>GPA</th>\n",
       "      <td>0.612552</td>\n",
       "      <td>1.000000</td>\n",
       "    </tr>\n",
       "  </tbody>\n",
       "</table>\n",
       "</div>"
      ],
      "text/plain": [
       "          SAT       GPA\n",
       "SAT  1.000000  0.612552\n",
       "GPA  0.612552  1.000000"
      ]
     },
     "execution_count": 12,
     "metadata": {},
     "output_type": "execute_result"
    }
   ],
   "source": [
    "score.corr()"
   ]
  },
  {
   "cell_type": "markdown",
   "id": "b0aa815e",
   "metadata": {},
   "source": [
    "This correlation value of 0.62 suggest a stong positive relationship between students' SAT scores and their Uni graduating GPAs; this suggest that as SAT scores increase, GPA tends to increase as well."
   ]
  },
  {
   "cell_type": "markdown",
   "id": "66345e15",
   "metadata": {},
   "source": [
    "##### <font color = 'green'> **Visualy assess the relationship between the variables**"
   ]
  },
  {
   "cell_type": "code",
   "execution_count": 45,
   "id": "460da471",
   "metadata": {},
   "outputs": [
    {
     "data": {
      "image/png": "[encoded data removed]",
      "text/plain": [
       "<Figure size 640x480 with 1 Axes>"
      ]
     },
     "metadata": {},
     "output_type": "display_data"
    }
   ],
   "source": [
    "# plt.figure(figsize=(14, 8), dpi = 200)\n",
    "sns.scatterplot(data=score, x='SAT', y = 'GPA', color ='green');\n",
    "\n",
    "plt.tight_layout()"
   ]
  },
  {
   "cell_type": "markdown",
   "id": "447e1bbe",
   "metadata": {},
   "source": [
    "From the above, there is a <font color = 'green'> ___positive relationship___</font> between the SAT scores gooten and the GPA scores graduated with. Majority of the datapoints are tilted towards the higher end of the graph."
   ]
  },
  {
   "cell_type": "code",
   "execution_count": 46,
   "id": "a7811808",
   "metadata": {},
   "outputs": [
    {
     "data": {
      "image/png": "[encoded data removed]",
      "text/plain": [
       "<Figure size 640x480 with 1 Axes>"
      ]
     },
     "metadata": {},
     "output_type": "display_data"
    }
   ],
   "source": [
    "# plt.figure (figsize=(14, 8), dpi = 200)\n",
    "sns.regplot(data=score, x='SAT', y = 'GPA', color = 'green');\n",
    "\n",
    "plt.tight_layout()"
   ]
  },
  {
   "cell_type": "markdown",
   "id": "b0a43d05",
   "metadata": {},
   "source": [
    "_Using the _regplot_ allows for more visibility on the slope direction of the graph_"
   ]
  },
  {
   "cell_type": "markdown",
   "id": "6cf4b732",
   "metadata": {},
   "source": [
    "---\n",
    "#### <font color = 'green'> __Model Development__"
   ]
  },
  {
   "cell_type": "markdown",
   "id": "758d8b39",
   "metadata": {},
   "source": [
    "The data oNly has one X feature- which makes it a Simple Linear Regression. For this, the simple straight line will be used <font color = 'green'>___(y =mx + b)___ </font>\n",
    "\n",
    "This can be either using the __np.Polyfit__ or by using ___.coef, ..intercept, and .predict___"
   ]
  },
  {
   "cell_type": "markdown",
   "id": "79ac71fc",
   "metadata": {},
   "source": [
    "##### <font color = 'green'> __Using SKlearn__"
   ]
  },
  {
   "cell_type": "markdown",
   "id": "93d85c47",
   "metadata": {},
   "source": [
    "Define the X and y AXIS"
   ]
  },
  {
   "cell_type": "code",
   "execution_count": 15,
   "id": "ebec1fa8",
   "metadata": {},
   "outputs": [],
   "source": [
    "y = score['GPA']\n",
    "X = score[['SAT']]"
   ]
  },
  {
   "cell_type": "markdown",
   "id": "f8d5a0df",
   "metadata": {},
   "source": [
    "Train test split"
   ]
  },
  {
   "cell_type": "code",
   "execution_count": 16,
   "id": "da386474",
   "metadata": {},
   "outputs": [],
   "source": [
    "from sklearn.model_selection import train_test_split\n",
    "X_train, X_test, y_train, y_test = train_test_split(X, y, test_size =0.3, shuffle=True, random_state=29)"
   ]
  },
  {
   "cell_type": "code",
   "execution_count": 17,
   "id": "73890b7a",
   "metadata": {},
   "outputs": [
    {
     "data": {
      "image/png": "[encoded data removed]",
      "text/plain": [
       "<Figure size 640x480 with 1 Axes>"
      ]
     },
     "metadata": {},
     "output_type": "display_data"
    }
   ],
   "source": [
    "sns.scatterplot(x=X_train['SAT'], y=y_train, label='Train')\n",
    "sns.scatterplot(x=X_test['SAT'], y= y_test, label='Test');"
   ]
  },
  {
   "cell_type": "code",
   "execution_count": 18,
   "id": "e9aa7a3d",
   "metadata": {},
   "outputs": [],
   "source": [
    "from sklearn.linear_model import LinearRegression\n",
    "model = LinearRegression()\n"
   ]
  },
  {
   "cell_type": "code",
   "execution_count": 19,
   "id": "8b1ba6a7",
   "metadata": {},
   "outputs": [
    {
     "data": {
      "text/plain": [
       "LinearRegression()"
      ]
     },
     "execution_count": 19,
     "metadata": {},
     "output_type": "execute_result"
    }
   ],
   "source": [
    "model.fit(X_train, y_train)"
   ]
  },
  {
   "cell_type": "code",
   "execution_count": 20,
   "id": "ca96d046",
   "metadata": {},
   "outputs": [],
   "source": [
    "from sklearn.linear_model import LinearRegression\n",
    "reg = LinearRegression()"
   ]
  },
  {
   "cell_type": "code",
   "execution_count": 21,
   "id": "2027b09a",
   "metadata": {},
   "outputs": [
    {
     "data": {
      "text/plain": [
       "LinearRegression()"
      ]
     },
     "execution_count": 21,
     "metadata": {},
     "output_type": "execute_result"
    }
   ],
   "source": [
    "reg.fit(score[['SAT']], score['GPA'])\n"
   ]
  },
  {
   "cell_type": "code",
   "execution_count": 22,
   "id": "e87a687a",
   "metadata": {},
   "outputs": [
    {
     "name": "stdout",
     "output_type": "stream",
     "text": [
      "The coeficient value is [0.00156111]\n"
     ]
    }
   ],
   "source": [
    "print(f'The coeficient value is {reg.coef_}')"
   ]
  },
  {
   "cell_type": "code",
   "execution_count": 23,
   "id": "cd6917f9",
   "metadata": {},
   "outputs": [
    {
     "name": "stdout",
     "output_type": "stream",
     "text": [
      "The intercept value is 0.47126246455052234\n"
     ]
    }
   ],
   "source": [
    "print(f'The intercept value is {reg.intercept_}')"
   ]
  },
  {
   "cell_type": "code",
   "execution_count": 24,
   "id": "65d8d92c",
   "metadata": {},
   "outputs": [],
   "source": [
    "# y1 = score['GPA']\n",
    "# X1 = score['SAT']\n",
    "# np.polyfit(X1, y1, deg = 1)"
   ]
  },
  {
   "cell_type": "code",
   "execution_count": 25,
   "id": "56a40bdb",
   "metadata": {},
   "outputs": [
    {
     "data": {
      "text/html": [
       "<div>\n",
       "<style scoped>\n",
       "    .dataframe tbody tr th:only-of-type {\n",
       "        vertical-align: middle;\n",
       "    }\n",
       "\n",
       "    .dataframe tbody tr th {\n",
       "        vertical-align: top;\n",
       "    }\n",
       "\n",
       "    .dataframe thead th {\n",
       "        text-align: right;\n",
       "    }\n",
       "</style>\n",
       "<table border=\"1\" class=\"dataframe\">\n",
       "  <thead>\n",
       "    <tr style=\"text-align: right;\">\n",
       "      <th></th>\n",
       "      <th>SAT</th>\n",
       "    </tr>\n",
       "  </thead>\n",
       "  <tbody>\n",
       "    <tr>\n",
       "      <th>73</th>\n",
       "      <td>1934</td>\n",
       "    </tr>\n",
       "    <tr>\n",
       "      <th>8</th>\n",
       "      <td>1792</td>\n",
       "    </tr>\n",
       "    <tr>\n",
       "      <th>10</th>\n",
       "      <td>1735</td>\n",
       "    </tr>\n",
       "    <tr>\n",
       "      <th>7</th>\n",
       "      <td>1764</td>\n",
       "    </tr>\n",
       "    <tr>\n",
       "      <th>19</th>\n",
       "      <td>1786</td>\n",
       "    </tr>\n",
       "    <tr>\n",
       "      <th>71</th>\n",
       "      <td>1778</td>\n",
       "    </tr>\n",
       "    <tr>\n",
       "      <th>92</th>\n",
       "      <td>1893</td>\n",
       "    </tr>\n",
       "    <tr>\n",
       "      <th>25</th>\n",
       "      <td>1826</td>\n",
       "    </tr>\n",
       "    <tr>\n",
       "      <th>38</th>\n",
       "      <td>1777</td>\n",
       "    </tr>\n",
       "    <tr>\n",
       "      <th>12</th>\n",
       "      <td>1735</td>\n",
       "    </tr>\n",
       "    <tr>\n",
       "      <th>57</th>\n",
       "      <td>1953</td>\n",
       "    </tr>\n",
       "    <tr>\n",
       "      <th>52</th>\n",
       "      <td>1907</td>\n",
       "    </tr>\n",
       "    <tr>\n",
       "      <th>77</th>\n",
       "      <td>2020</td>\n",
       "    </tr>\n",
       "    <tr>\n",
       "      <th>5</th>\n",
       "      <td>1670</td>\n",
       "    </tr>\n",
       "    <tr>\n",
       "      <th>41</th>\n",
       "      <td>1850</td>\n",
       "    </tr>\n",
       "    <tr>\n",
       "      <th>98</th>\n",
       "      <td>1933</td>\n",
       "    </tr>\n",
       "    <tr>\n",
       "      <th>70</th>\n",
       "      <td>1933</td>\n",
       "    </tr>\n",
       "    <tr>\n",
       "      <th>33</th>\n",
       "      <td>1855</td>\n",
       "    </tr>\n",
       "    <tr>\n",
       "      <th>84</th>\n",
       "      <td>1730</td>\n",
       "    </tr>\n",
       "    <tr>\n",
       "      <th>55</th>\n",
       "      <td>1887</td>\n",
       "    </tr>\n",
       "    <tr>\n",
       "      <th>63</th>\n",
       "      <td>2041</td>\n",
       "    </tr>\n",
       "    <tr>\n",
       "      <th>90</th>\n",
       "      <td>1893</td>\n",
       "    </tr>\n",
       "    <tr>\n",
       "      <th>94</th>\n",
       "      <td>1850</td>\n",
       "    </tr>\n",
       "    <tr>\n",
       "      <th>56</th>\n",
       "      <td>1730</td>\n",
       "    </tr>\n",
       "    <tr>\n",
       "      <th>9</th>\n",
       "      <td>1850</td>\n",
       "    </tr>\n",
       "    <tr>\n",
       "      <th>30</th>\n",
       "      <td>1769</td>\n",
       "    </tr>\n",
       "    <tr>\n",
       "      <th>61</th>\n",
       "      <td>1808</td>\n",
       "    </tr>\n",
       "    <tr>\n",
       "      <th>72</th>\n",
       "      <td>1975</td>\n",
       "    </tr>\n",
       "    <tr>\n",
       "      <th>81</th>\n",
       "      <td>1987</td>\n",
       "    </tr>\n",
       "    <tr>\n",
       "      <th>60</th>\n",
       "      <td>1964</td>\n",
       "    </tr>\n",
       "  </tbody>\n",
       "</table>\n",
       "</div>"
      ],
      "text/plain": [
       "     SAT\n",
       "73  1934\n",
       "8   1792\n",
       "10  1735\n",
       "7   1764\n",
       "19  1786\n",
       "71  1778\n",
       "92  1893\n",
       "25  1826\n",
       "38  1777\n",
       "12  1735\n",
       "57  1953\n",
       "52  1907\n",
       "77  2020\n",
       "5   1670\n",
       "41  1850\n",
       "98  1933\n",
       "70  1933\n",
       "33  1855\n",
       "84  1730\n",
       "55  1887\n",
       "63  2041\n",
       "90  1893\n",
       "94  1850\n",
       "56  1730\n",
       "9   1850\n",
       "30  1769\n",
       "61  1808\n",
       "72  1975\n",
       "81  1987\n",
       "60  1964"
      ]
     },
     "execution_count": 25,
     "metadata": {},
     "output_type": "execute_result"
    }
   ],
   "source": [
    "X_test"
   ]
  },
  {
   "cell_type": "code",
   "execution_count": 26,
   "id": "978ecb5e",
   "metadata": {},
   "outputs": [
    {
     "data": {
      "text/plain": [
       "array([3.49, 3.27, 3.18, 3.23, 3.26, 3.25, 3.43, 3.32, 3.25, 3.18, 3.52,\n",
       "       3.45, 3.62, 3.08, 3.36, 3.49, 3.49, 3.37, 3.17, 3.42, 3.66, 3.43,\n",
       "       3.36, 3.17, 3.36, 3.23, 3.29, 3.55, 3.57, 3.54])"
      ]
     },
     "execution_count": 26,
     "metadata": {},
     "output_type": "execute_result"
    }
   ],
   "source": [
    "pred_gpa = np.round(reg.predict(X_test), 2)\n",
    "pred_gpa"
   ]
  },
  {
   "cell_type": "code",
   "execution_count": 27,
   "id": "3427e814",
   "metadata": {},
   "outputs": [
    {
     "data": {
      "text/plain": [
       "73    3.60\n",
       "8     3.01\n",
       "10    3.02\n",
       "7     3.00\n",
       "19    3.19\n",
       "71    3.59\n",
       "92    3.51\n",
       "25    3.28\n",
       "38    3.37\n",
       "12    3.08\n",
       "57    3.47\n",
       "52    3.42\n",
       "77    3.65\n",
       "5     2.91\n",
       "41    3.38\n",
       "98    3.59\n",
       "70    3.59\n",
       "33    3.29\n",
       "84    3.47\n",
       "55    3.47\n",
       "63    3.51\n",
       "90    3.50\n",
       "94    3.52\n",
       "56    3.47\n",
       "9     3.01\n",
       "30    3.28\n",
       "61    3.49\n",
       "72    3.60\n",
       "81    3.73\n",
       "60    3.49\n",
       "Name: GPA, dtype: float64"
      ]
     },
     "execution_count": 27,
     "metadata": {},
     "output_type": "execute_result"
    }
   ],
   "source": [
    "y_test"
   ]
  },
  {
   "cell_type": "code",
   "execution_count": 28,
   "id": "cd6ca699",
   "metadata": {},
   "outputs": [
    {
     "data": {
      "text/html": [
       "<div>\n",
       "<style scoped>\n",
       "    .dataframe tbody tr th:only-of-type {\n",
       "        vertical-align: middle;\n",
       "    }\n",
       "\n",
       "    .dataframe tbody tr th {\n",
       "        vertical-align: top;\n",
       "    }\n",
       "\n",
       "    .dataframe thead th {\n",
       "        text-align: right;\n",
       "    }\n",
       "</style>\n",
       "<table border=\"1\" class=\"dataframe\">\n",
       "  <thead>\n",
       "    <tr style=\"text-align: right;\">\n",
       "      <th></th>\n",
       "      <th>True_GPA</th>\n",
       "      <th>Pred_GPA</th>\n",
       "      <th>Residual_value</th>\n",
       "    </tr>\n",
       "  </thead>\n",
       "  <tbody>\n",
       "    <tr>\n",
       "      <th>0</th>\n",
       "      <td>3.60</td>\n",
       "      <td>3.49</td>\n",
       "      <td>0.11</td>\n",
       "    </tr>\n",
       "    <tr>\n",
       "      <th>1</th>\n",
       "      <td>3.01</td>\n",
       "      <td>3.27</td>\n",
       "      <td>-0.26</td>\n",
       "    </tr>\n",
       "    <tr>\n",
       "      <th>2</th>\n",
       "      <td>3.02</td>\n",
       "      <td>3.18</td>\n",
       "      <td>-0.16</td>\n",
       "    </tr>\n",
       "    <tr>\n",
       "      <th>3</th>\n",
       "      <td>3.00</td>\n",
       "      <td>3.23</td>\n",
       "      <td>-0.23</td>\n",
       "    </tr>\n",
       "    <tr>\n",
       "      <th>4</th>\n",
       "      <td>3.19</td>\n",
       "      <td>3.26</td>\n",
       "      <td>-0.07</td>\n",
       "    </tr>\n",
       "    <tr>\n",
       "      <th>5</th>\n",
       "      <td>3.59</td>\n",
       "      <td>3.25</td>\n",
       "      <td>0.34</td>\n",
       "    </tr>\n",
       "    <tr>\n",
       "      <th>6</th>\n",
       "      <td>3.51</td>\n",
       "      <td>3.43</td>\n",
       "      <td>0.08</td>\n",
       "    </tr>\n",
       "    <tr>\n",
       "      <th>7</th>\n",
       "      <td>3.28</td>\n",
       "      <td>3.32</td>\n",
       "      <td>-0.04</td>\n",
       "    </tr>\n",
       "    <tr>\n",
       "      <th>8</th>\n",
       "      <td>3.37</td>\n",
       "      <td>3.25</td>\n",
       "      <td>0.12</td>\n",
       "    </tr>\n",
       "    <tr>\n",
       "      <th>9</th>\n",
       "      <td>3.08</td>\n",
       "      <td>3.18</td>\n",
       "      <td>-0.10</td>\n",
       "    </tr>\n",
       "  </tbody>\n",
       "</table>\n",
       "</div>"
      ],
      "text/plain": [
       "   True_GPA  Pred_GPA  Residual_value\n",
       "0      3.60      3.49            0.11\n",
       "1      3.01      3.27           -0.26\n",
       "2      3.02      3.18           -0.16\n",
       "3      3.00      3.23           -0.23\n",
       "4      3.19      3.26           -0.07\n",
       "5      3.59      3.25            0.34\n",
       "6      3.51      3.43            0.08\n",
       "7      3.28      3.32           -0.04\n",
       "8      3.37      3.25            0.12\n",
       "9      3.08      3.18           -0.10"
      ]
     },
     "execution_count": 28,
     "metadata": {},
     "output_type": "execute_result"
    }
   ],
   "source": [
    "residual1 = y_test - pred_gpa\n",
    "\n",
    "table_tst = pd.DataFrame({\n",
    "    'True_GPA': y_test,\n",
    "    'Pred_GPA': pred_gpa,\n",
    "    'Residual_value': residual1,\n",
    "})\n",
    "\n",
    "# print(table_tst.to_string(index=False))\n",
    "table_tst[:10].reset_index(drop=True)"
   ]
  },
  {
   "cell_type": "markdown",
   "id": "94022978",
   "metadata": {},
   "source": [
    "_Get the range of the X value to develop a linspace that can be used to compare the pred and true y values._"
   ]
  },
  {
   "cell_type": "code",
   "execution_count": 29,
   "id": "9669d709",
   "metadata": {},
   "outputs": [],
   "source": [
    "# table_tst.Pred_GPA"
   ]
  },
  {
   "cell_type": "code",
   "execution_count": 30,
   "id": "02ad9ade",
   "metadata": {},
   "outputs": [
    {
     "data": {
      "text/plain": [
       "<matplotlib.lines.Line2D at 0x1459a80d4c0>"
      ]
     },
     "execution_count": 30,
     "metadata": {},
     "output_type": "execute_result"
    },
    {
     "data": {
      "image/png": "[encoded data removed]",
      "text/plain": [
       "<Figure size 640x480 with 1 Axes>"
      ]
     },
     "metadata": {},
     "output_type": "display_data"
    }
   ],
   "source": [
    "sns.scatterplot(x=y_test, y=residual1)\n",
    "plt.axhline(y=0, color='red')"
   ]
  },
  {
   "cell_type": "code",
   "execution_count": 31,
   "id": "e8137d00",
   "metadata": {},
   "outputs": [],
   "source": [
    "# plt.scatter(x=y_test, y=pred_gpa)\n",
    "# pl\n",
    "# # sns.scatterplot(x=y_test,y=y_test, color = 'red', label ='Actual')\n",
    "# # plt.xlabel('Actual Value')\n",
    "# # plt.ylabel('Predicted Vales')\n",
    "# # plt.title('Actual vs Predicted');\n"
   ]
  },
  {
   "cell_type": "code",
   "execution_count": 32,
   "id": "3c90748d",
   "metadata": {},
   "outputs": [],
   "source": [
    "# sns.scatterplot(x=X_train['SAT'], y=y_train, label='train')\n",
    "# sns.scatterplot(x=X_test['SAT'], y=y_test, label='test')\n",
    "\n",
    "# x_range = np.arange(start=score['SAT'].min(),stop=score['SAT'].max())\n",
    "# y_hat = reg.intercept_ + reg.coef_[0]*x_range\n",
    "# sns.lineplot(x=x_range,y=y_hat,color=\"red\")"
   ]
  },
  {
   "cell_type": "code",
   "execution_count": 33,
   "id": "a02c5f94",
   "metadata": {},
   "outputs": [],
   "source": [
    "from sklearn.metrics import mean_absolute_error, mean_squared_error"
   ]
  },
  {
   "cell_type": "code",
   "execution_count": 37,
   "id": "3c7debad",
   "metadata": {},
   "outputs": [
    {
     "data": {
      "text/plain": [
       "3.360499999999999"
      ]
     },
     "execution_count": 37,
     "metadata": {},
     "output_type": "execute_result"
    }
   ],
   "source": [
    "score['GPA'].mean()"
   ]
  },
  {
   "cell_type": "code",
   "execution_count": 34,
   "id": "7c200e30",
   "metadata": {},
   "outputs": [
    {
     "data": {
      "text/plain": [
       "0.3483770440502467"
      ]
     },
     "execution_count": 34,
     "metadata": {},
     "output_type": "execute_result"
    }
   ],
   "source": [
    "reg.score(X_train, y_train)"
   ]
  },
  {
   "cell_type": "code",
   "execution_count": 35,
   "id": "ab00e5f5",
   "metadata": {},
   "outputs": [
    {
     "data": {
      "text/plain": [
       "0.13266666666666668"
      ]
     },
     "execution_count": 35,
     "metadata": {},
     "output_type": "execute_result"
    }
   ],
   "source": [
    "mean_absolute_error(y_test, pred_gpa)"
   ]
  },
  {
   "cell_type": "markdown",
   "id": "d92c37f4",
   "metadata": {},
   "source": [
    "the training stats is very low"
   ]
  },
  {
   "cell_type": "code",
   "execution_count": 36,
   "id": "74cd162d",
   "metadata": {},
   "outputs": [
    {
     "data": {
      "text/plain": [
       "0.16352369858830862"
      ]
     },
     "execution_count": 36,
     "metadata": {},
     "output_type": "execute_result"
    }
   ],
   "source": [
    "np.sqrt(mean_squared_error(y_test, pred_gpa))"
   ]
  },
  {
   "cell_type": "code",
   "execution_count": 39,
   "id": "78e43731",
   "metadata": {},
   "outputs": [
    {
     "data": {
      "text/plain": [
       "73    0.11\n",
       "8    -0.26\n",
       "10   -0.16\n",
       "7    -0.23\n",
       "19   -0.07\n",
       "71    0.34\n",
       "92    0.08\n",
       "25   -0.04\n",
       "38    0.12\n",
       "12   -0.10\n",
       "57   -0.05\n",
       "52   -0.03\n",
       "77    0.03\n",
       "5    -0.17\n",
       "41    0.02\n",
       "98    0.10\n",
       "70    0.10\n",
       "33   -0.08\n",
       "84    0.30\n",
       "55    0.05\n",
       "63   -0.15\n",
       "90    0.07\n",
       "94    0.16\n",
       "56    0.30\n",
       "9    -0.35\n",
       "30    0.05\n",
       "61    0.20\n",
       "72    0.05\n",
       "81    0.16\n",
       "60   -0.05\n",
       "Name: GPA, dtype: float64"
      ]
     },
     "execution_count": 39,
     "metadata": {},
     "output_type": "execute_result"
    }
   ],
   "source": [
    "test_residuals = y_test - pred_gpa\n",
    "test_residuals"
   ]
  },
  {
   "cell_type": "code",
   "execution_count": 44,
   "id": "16760685",
   "metadata": {},
   "outputs": [],
   "source": [
    "# Residul Plot"
   ]
  },
  {
   "cell_type": "code",
   "execution_count": 41,
   "id": "479cdfc0",
   "metadata": {},
   "outputs": [
    {
     "data": {
      "text/plain": [
       "<matplotlib.lines.Line2D at 0x1459a9ccbe0>"
      ]
     },
     "execution_count": 41,
     "metadata": {},
     "output_type": "execute_result"
    },
    {
     "data": {
      "image/png": "[encoded data removed]",
      "text/plain": [
       "<Figure size 640x480 with 1 Axes>"
      ]
     },
     "metadata": {},
     "output_type": "display_data"
    }
   ],
   "source": [
    "sns.scatterplot(x=y_test, y=test_residuals)\n",
    "plt.axhline(y=0, color='red')"
   ]
  },
  {
   "cell_type": "code",
   "execution_count": 42,
   "id": "53548327",
   "metadata": {},
   "outputs": [
    {
     "data": {
      "text/plain": [
       "<seaborn.axisgrid.FacetGrid at 0x1459a9f43d0>"
      ]
     },
     "execution_count": 42,
     "metadata": {},
     "output_type": "execute_result"
    },
    {
     "data": {
      "image/png": "[encoded data removed]",
      "text/plain": [
       "<Figure size 500x500 with 1 Axes>"
      ]
     },
     "metadata": {},
     "output_type": "display_data"
    }
   ],
   "source": [
    "sns.displot(test_residuals, bins =20, kde = True)"
   ]
  },
  {
   "cell_type": "code",
   "execution_count": 43,
   "id": "650fd274",
   "metadata": {},
   "outputs": [
    {
     "data": {
      "image/png": "[encoded data removed]",
      "text/plain": [
       "<Figure size 1200x1600 with 1 Axes>"
      ]
     },
     "metadata": {},
     "output_type": "display_data"
    }
   ],
   "source": [
    "import scipy as sp\n",
    "fig, ax = plt.subplots (figsize=(6,8), dpi = 200)\n",
    "\n",
    "_ = sp.stats.probplot (test_residuals, plot=ax)"
   ]
  },
  {
   "cell_type": "code",
   "execution_count": 100,
   "id": "257b1e80",
   "metadata": {},
   "outputs": [],
   "source": [
    "score['SAT2'] = score['SAT']**2"
   ]
  },
  {
   "cell_type": "code",
   "execution_count": 102,
   "id": "0071e2c4",
   "metadata": {},
   "outputs": [],
   "source": [
    "X2_train, X2_test, y2_train, y2_test = train_test_split(score[['SAT','SAT2']], score['GPA'], test_size=0.4, shuffle=True, random_state=29)"
   ]
  },
  {
   "cell_type": "code",
   "execution_count": 103,
   "id": "37c6b9e3",
   "metadata": {},
   "outputs": [
    {
     "data": {
      "text/plain": [
       "LinearRegression()"
      ]
     },
     "execution_count": 103,
     "metadata": {},
     "output_type": "execute_result"
    }
   ],
   "source": [
    "reg2 = LinearRegression()\n",
    "reg2.fit(X2_train, y2_train)"
   ]
  },
  {
   "cell_type": "code",
   "execution_count": 117,
   "id": "af8d6513",
   "metadata": {},
   "outputs": [],
   "source": [
    "# sns.scatterplot(x=X2_train['SAT'], y=y2_train, label='train')\n",
    "# sns.scatterplot(x=X2_test['SAT'], y=y2_test, label='test')\n",
    "\n",
    "# x_range = np.arange(start=score['SAT'].min(),stop=score['SAT'].max())\n",
    "# y_hat = reg.intercept_ + reg.coef_[0]*x_range + reg.coef_[0]*(x_range**2)\n",
    "# sns.lineplot(x=x_range,y=y_hat,color=\"red\")"
   ]
  },
  {
   "cell_type": "code",
   "execution_count": 111,
   "id": "e7d8450a",
   "metadata": {},
   "outputs": [
    {
     "data": {
      "text/plain": [
       "0.360076657113496"
      ]
     },
     "execution_count": 111,
     "metadata": {},
     "output_type": "execute_result"
    }
   ],
   "source": [
    "reg2.score(X2_train, y2_train)"
   ]
  },
  {
   "cell_type": "code",
   "execution_count": 118,
   "id": "b69bb2a0",
   "metadata": {},
   "outputs": [
    {
     "data": {
      "text/plain": [
       "LinearRegression()"
      ]
     },
     "execution_count": 118,
     "metadata": {},
     "output_type": "execute_result"
    }
   ],
   "source": [
    "score['SAT3'] = score['SAT']**3\n",
    "X3_train, X3_test, y3_train, y3_test = train_test_split(score[['SAT','SAT2', 'SAT3']], score['GPA'], test_size=0.4, shuffle=True, random_state=29)\n",
    "reg3 = LinearRegression()\n",
    "reg3.fit(X3_train, y3_train)"
   ]
  },
  {
   "cell_type": "code",
   "execution_count": 119,
   "id": "98a80cab",
   "metadata": {},
   "outputs": [
    {
     "data": {
      "text/plain": [
       "0.3608945338478322"
      ]
     },
     "execution_count": 119,
     "metadata": {},
     "output_type": "execute_result"
    }
   ],
   "source": [
    "reg3.score(X3_train, y3_train)"
   ]
  },
  {
   "cell_type": "markdown",
   "id": "8004e05c",
   "metadata": {},
   "source": [
    "<font color = 'green'> __Testing the Equation__"
   ]
  },
  {
   "cell_type": "code",
   "execution_count": 409,
   "id": "afcf2880",
   "metadata": {},
   "outputs": [
    {
     "data": {
      "text/html": [
       "<div>\n",
       "<style scoped>\n",
       "    .dataframe tbody tr th:only-of-type {\n",
       "        vertical-align: middle;\n",
       "    }\n",
       "\n",
       "    .dataframe tbody tr th {\n",
       "        vertical-align: top;\n",
       "    }\n",
       "\n",
       "    .dataframe thead th {\n",
       "        text-align: right;\n",
       "    }\n",
       "</style>\n",
       "<table border=\"1\" class=\"dataframe\">\n",
       "  <thead>\n",
       "    <tr style=\"text-align: right;\">\n",
       "      <th></th>\n",
       "      <th>True_GPA</th>\n",
       "      <th>Pred_GPA</th>\n",
       "      <th>residual_1</th>\n",
       "    </tr>\n",
       "  </thead>\n",
       "  <tbody>\n",
       "    <tr>\n",
       "      <th>0</th>\n",
       "      <td>2.83</td>\n",
       "      <td>3.11</td>\n",
       "      <td>-0.28</td>\n",
       "    </tr>\n",
       "    <tr>\n",
       "      <th>1</th>\n",
       "      <td>3.19</td>\n",
       "      <td>3.26</td>\n",
       "      <td>-0.07</td>\n",
       "    </tr>\n",
       "    <tr>\n",
       "      <th>2</th>\n",
       "      <td>3.19</td>\n",
       "      <td>3.43</td>\n",
       "      <td>-0.24</td>\n",
       "    </tr>\n",
       "    <tr>\n",
       "      <th>3</th>\n",
       "      <td>3.29</td>\n",
       "      <td>3.28</td>\n",
       "      <td>0.01</td>\n",
       "    </tr>\n",
       "    <tr>\n",
       "      <th>4</th>\n",
       "      <td>3.31</td>\n",
       "      <td>3.62</td>\n",
       "      <td>-0.31</td>\n",
       "    </tr>\n",
       "    <tr>\n",
       "      <th>5</th>\n",
       "      <td>3.41</td>\n",
       "      <td>3.36</td>\n",
       "      <td>0.05</td>\n",
       "    </tr>\n",
       "    <tr>\n",
       "      <th>6</th>\n",
       "      <td>3.42</td>\n",
       "      <td>3.22</td>\n",
       "      <td>0.20</td>\n",
       "    </tr>\n",
       "    <tr>\n",
       "      <th>7</th>\n",
       "      <td>3.50</td>\n",
       "      <td>3.45</td>\n",
       "      <td>0.05</td>\n",
       "    </tr>\n",
       "    <tr>\n",
       "      <th>8</th>\n",
       "      <td>3.62</td>\n",
       "      <td>3.41</td>\n",
       "      <td>0.21</td>\n",
       "    </tr>\n",
       "  </tbody>\n",
       "</table>\n",
       "</div>"
      ],
      "text/plain": [
       "   True_GPA  Pred_GPA  residual_1\n",
       "0      2.83      3.11       -0.28\n",
       "1      3.19      3.26       -0.07\n",
       "2      3.19      3.43       -0.24\n",
       "3      3.29      3.28        0.01\n",
       "4      3.31      3.62       -0.31\n",
       "5      3.41      3.36        0.05\n",
       "6      3.42      3.22        0.20\n",
       "7      3.50      3.45        0.05\n",
       "8      3.62      3.41        0.21"
      ]
     },
     "execution_count": 409,
     "metadata": {},
     "output_type": "execute_result"
    }
   ],
   "source": [
    "# op = np.array(score['GPA'])\n",
    "# pred_gpa_ = round(pred_gpa, 2)\n",
    "residual = pd.Series(filtered_score['GPA'] - model_test['pred_GPA'])\n",
    "# residual\n",
    "residual_output = pd.DataFrame({\n",
    "   'True_GPA': filtered_score['GPA'],\n",
    "    'Pred_GPA': model_test['pred_GPA'],\n",
    "    'residual_1': residual\n",
    "})\n",
    "\n",
    "residual_output"
   ]
  },
  {
   "cell_type": "markdown",
   "id": "90735eef",
   "metadata": {},
   "source": [
    "The model is bad"
   ]
  },
  {
   "cell_type": "code",
   "execution_count": 410,
   "id": "e46b80dc",
   "metadata": {},
   "outputs": [
    {
     "data": {
      "text/html": [
       "<div>\n",
       "<style scoped>\n",
       "    .dataframe tbody tr th:only-of-type {\n",
       "        vertical-align: middle;\n",
       "    }\n",
       "\n",
       "    .dataframe tbody tr th {\n",
       "        vertical-align: top;\n",
       "    }\n",
       "\n",
       "    .dataframe thead th {\n",
       "        text-align: right;\n",
       "    }\n",
       "</style>\n",
       "<table border=\"1\" class=\"dataframe\">\n",
       "  <thead>\n",
       "    <tr style=\"text-align: right;\">\n",
       "      <th></th>\n",
       "      <th>SAT</th>\n",
       "      <th>GPA</th>\n",
       "    </tr>\n",
       "  </thead>\n",
       "  <tbody>\n",
       "    <tr>\n",
       "      <th>0</th>\n",
       "      <td>1714</td>\n",
       "      <td>2.40</td>\n",
       "    </tr>\n",
       "    <tr>\n",
       "      <th>1</th>\n",
       "      <td>1664</td>\n",
       "      <td>2.52</td>\n",
       "    </tr>\n",
       "    <tr>\n",
       "      <th>2</th>\n",
       "      <td>1760</td>\n",
       "      <td>2.54</td>\n",
       "    </tr>\n",
       "    <tr>\n",
       "      <th>3</th>\n",
       "      <td>1685</td>\n",
       "      <td>2.74</td>\n",
       "    </tr>\n",
       "    <tr>\n",
       "      <th>4</th>\n",
       "      <td>1693</td>\n",
       "      <td>2.83</td>\n",
       "    </tr>\n",
       "    <tr>\n",
       "      <th>...</th>\n",
       "      <td>...</td>\n",
       "      <td>...</td>\n",
       "    </tr>\n",
       "    <tr>\n",
       "      <th>95</th>\n",
       "      <td>1934</td>\n",
       "      <td>3.54</td>\n",
       "    </tr>\n",
       "    <tr>\n",
       "      <th>96</th>\n",
       "      <td>1861</td>\n",
       "      <td>3.58</td>\n",
       "    </tr>\n",
       "    <tr>\n",
       "      <th>97</th>\n",
       "      <td>1931</td>\n",
       "      <td>3.58</td>\n",
       "    </tr>\n",
       "    <tr>\n",
       "      <th>98</th>\n",
       "      <td>1933</td>\n",
       "      <td>3.59</td>\n",
       "    </tr>\n",
       "    <tr>\n",
       "      <th>99</th>\n",
       "      <td>1778</td>\n",
       "      <td>3.59</td>\n",
       "    </tr>\n",
       "  </tbody>\n",
       "</table>\n",
       "<p>100 rows × 2 columns</p>\n",
       "</div>"
      ],
      "text/plain": [
       "     SAT   GPA\n",
       "0   1714  2.40\n",
       "1   1664  2.52\n",
       "2   1760  2.54\n",
       "3   1685  2.74\n",
       "4   1693  2.83\n",
       "..   ...   ...\n",
       "95  1934  3.54\n",
       "96  1861  3.58\n",
       "97  1931  3.58\n",
       "98  1933  3.59\n",
       "99  1778  3.59\n",
       "\n",
       "[100 rows x 2 columns]"
      ]
     },
     "execution_count": 410,
     "metadata": {},
     "output_type": "execute_result"
    }
   ],
   "source": [
    "# trying a new deg\n",
    "score"
   ]
  },
  {
   "cell_type": "code",
   "execution_count": 411,
   "id": "248b06dd",
   "metadata": {},
   "outputs": [],
   "source": [
    "X = score.SAT\n",
    "y = score.GPA"
   ]
  },
  {
   "cell_type": "code",
   "execution_count": 412,
   "id": "eac03475",
   "metadata": {},
   "outputs": [
    {
     "data": {
      "text/plain": [
       "array([-3.38393415e-06,  1.40791827e-02, -1.10710974e+01])"
      ]
     },
     "execution_count": 412,
     "metadata": {},
     "output_type": "execute_result"
    }
   ],
   "source": [
    "np.polyfit(X, y, deg = 2)"
   ]
  },
  {
   "cell_type": "code",
   "execution_count": null,
   "id": "e24cbbdc",
   "metadata": {},
   "outputs": [
    {
     "data": {
      "text/html": [
       "<div>\n",
       "<style scoped>\n",
       "    .dataframe tbody tr th:only-of-type {\n",
       "        vertical-align: middle;\n",
       "    }\n",
       "\n",
       "    .dataframe tbody tr th {\n",
       "        vertical-align: top;\n",
       "    }\n",
       "\n",
       "    .dataframe thead th {\n",
       "        text-align: right;\n",
       "    }\n",
       "</style>\n",
       "<table border=\"1\" class=\"dataframe\">\n",
       "  <thead>\n",
       "    <tr style=\"text-align: right;\">\n",
       "      <th></th>\n",
       "      <th>SAT_to_predict</th>\n",
       "      <th>pred_GPA</th>\n",
       "    </tr>\n",
       "  </thead>\n",
       "  <tbody>\n",
       "    <tr>\n",
       "      <th>0</th>\n",
       "      <td>1693.0</td>\n",
       "      <td>144.39</td>\n",
       "    </tr>\n",
       "    <tr>\n",
       "      <th>1</th>\n",
       "      <td>1786.0</td>\n",
       "      <td>151.15</td>\n",
       "    </tr>\n",
       "    <tr>\n",
       "      <th>2</th>\n",
       "      <td>1893.0</td>\n",
       "      <td>158.86</td>\n",
       "    </tr>\n",
       "    <tr>\n",
       "      <th>3</th>\n",
       "      <td>1802.0</td>\n",
       "      <td>152.31</td>\n",
       "    </tr>\n",
       "    <tr>\n",
       "      <th>4</th>\n",
       "      <td>2015.0</td>\n",
       "      <td>167.55</td>\n",
       "    </tr>\n",
       "    <tr>\n",
       "      <th>5</th>\n",
       "      <td>1849.0</td>\n",
       "      <td>155.70</td>\n",
       "    </tr>\n",
       "    <tr>\n",
       "      <th>6</th>\n",
       "      <td>1761.0</td>\n",
       "      <td>149.34</td>\n",
       "    </tr>\n",
       "    <tr>\n",
       "      <th>7</th>\n",
       "      <td>1907.0</td>\n",
       "      <td>159.86</td>\n",
       "    </tr>\n",
       "    <tr>\n",
       "      <th>8</th>\n",
       "      <td>1880.0</td>\n",
       "      <td>157.92</td>\n",
       "    </tr>\n",
       "  </tbody>\n",
       "</table>\n",
       "</div>"
      ],
      "text/plain": [
       "   SAT_to_predict  pred_GPA\n",
       "0          1693.0    144.39\n",
       "1          1786.0    151.15\n",
       "2          1893.0    158.86\n",
       "3          1802.0    152.31\n",
       "4          2015.0    167.55\n",
       "5          1849.0    155.70\n",
       "6          1761.0    149.34\n",
       "7          1907.0    159.86\n",
       "8          1880.0    157.92"
      ]
     },
     "execution_count": 413,
     "metadata": {},
     "output_type": "execute_result"
    }
   ],
   "source": [
    "# sat_to_predict = np.array([1693.0, 1786.0, 1893, 1802, 2015, 1849, 1761, 1907, 1880])\n",
    "# pred_gpa = np.round(-3.38393415e-06*sat_to_predict**2 + 1.40791827e-02*6*sat_to_predict+1.10710974e+01, 2)\n",
    "# model_test = pd.DataFrame({\n",
    "#     'SAT_to_predict': sat_to_predict,\n",
    "#     'pred_GPA': pred_gpa\n",
    "# })\n",
    "# model_test.drop_duplicates(subset ='SAT_to_predict').head(10).reset_index(drop = True).sort_values(by='SAT_to_predict',ascending =True)\n",
    "# model_test"
   ]
  },
  {
   "cell_type": "code",
   "execution_count": null,
   "id": "0bdc954d",
   "metadata": {},
   "outputs": [
    {
     "data": {
      "text/html": [
       "<div>\n",
       "<style scoped>\n",
       "    .dataframe tbody tr th:only-of-type {\n",
       "        vertical-align: middle;\n",
       "    }\n",
       "\n",
       "    .dataframe tbody tr th {\n",
       "        vertical-align: top;\n",
       "    }\n",
       "\n",
       "    .dataframe thead th {\n",
       "        text-align: right;\n",
       "    }\n",
       "</style>\n",
       "<table border=\"1\" class=\"dataframe\">\n",
       "  <thead>\n",
       "    <tr style=\"text-align: right;\">\n",
       "      <th></th>\n",
       "      <th>SAT</th>\n",
       "      <th>GPA</th>\n",
       "    </tr>\n",
       "  </thead>\n",
       "  <tbody>\n",
       "    <tr>\n",
       "      <th>0</th>\n",
       "      <td>1693</td>\n",
       "      <td>2.83</td>\n",
       "    </tr>\n",
       "    <tr>\n",
       "      <th>2</th>\n",
       "      <td>1761</td>\n",
       "      <td>3.19</td>\n",
       "    </tr>\n",
       "    <tr>\n",
       "      <th>1</th>\n",
       "      <td>1786</td>\n",
       "      <td>3.19</td>\n",
       "    </tr>\n",
       "    <tr>\n",
       "      <th>5</th>\n",
       "      <td>1802</td>\n",
       "      <td>3.41</td>\n",
       "    </tr>\n",
       "    <tr>\n",
       "      <th>4</th>\n",
       "      <td>1849</td>\n",
       "      <td>3.31</td>\n",
       "    </tr>\n",
       "    <tr>\n",
       "      <th>3</th>\n",
       "      <td>1880</td>\n",
       "      <td>3.29</td>\n",
       "    </tr>\n",
       "    <tr>\n",
       "      <th>7</th>\n",
       "      <td>1893</td>\n",
       "      <td>3.50</td>\n",
       "    </tr>\n",
       "    <tr>\n",
       "      <th>6</th>\n",
       "      <td>1907</td>\n",
       "      <td>3.42</td>\n",
       "    </tr>\n",
       "    <tr>\n",
       "      <th>8</th>\n",
       "      <td>2015</td>\n",
       "      <td>3.62</td>\n",
       "    </tr>\n",
       "  </tbody>\n",
       "</table>\n",
       "</div>"
      ],
      "text/plain": [
       "    SAT   GPA\n",
       "0  1693  2.83\n",
       "2  1761  3.19\n",
       "1  1786  3.19\n",
       "5  1802  3.41\n",
       "4  1849  3.31\n",
       "3  1880  3.29\n",
       "7  1893  3.50\n",
       "6  1907  3.42\n",
       "8  2015  3.62"
      ]
     },
     "execution_count": 414,
     "metadata": {},
     "output_type": "execute_result"
    }
   ],
   "source": [
    "# scores_to_com =  [1693.0, 1786.0, 1893, 1802, 2015, 1849, 1761, 1907, 1880]\n",
    "# # \n",
    "# filtered_score = score[score['SAT'].isin(scores_to_com)].drop_duplicates(subset = 'SAT').reset_index(drop = True).sort_values(by='SAT',ascending =True)\n",
    "# filtered_score"
   ]
  },
  {
   "cell_type": "code",
   "execution_count": null,
   "id": "9bf5f09f",
   "metadata": {},
   "outputs": [
    {
     "data": {
      "text/html": [
       "<div>\n",
       "<style scoped>\n",
       "    .dataframe tbody tr th:only-of-type {\n",
       "        vertical-align: middle;\n",
       "    }\n",
       "\n",
       "    .dataframe tbody tr th {\n",
       "        vertical-align: top;\n",
       "    }\n",
       "\n",
       "    .dataframe thead th {\n",
       "        text-align: right;\n",
       "    }\n",
       "</style>\n",
       "<table border=\"1\" class=\"dataframe\">\n",
       "  <thead>\n",
       "    <tr style=\"text-align: right;\">\n",
       "      <th></th>\n",
       "      <th>True_GPA</th>\n",
       "      <th>Pred_GPA</th>\n",
       "      <th>residual_diff</th>\n",
       "    </tr>\n",
       "  </thead>\n",
       "  <tbody>\n",
       "    <tr>\n",
       "      <th>0</th>\n",
       "      <td>2.83</td>\n",
       "      <td>144.39</td>\n",
       "      <td>-0.28</td>\n",
       "    </tr>\n",
       "    <tr>\n",
       "      <th>1</th>\n",
       "      <td>3.19</td>\n",
       "      <td>151.15</td>\n",
       "      <td>-0.07</td>\n",
       "    </tr>\n",
       "    <tr>\n",
       "      <th>2</th>\n",
       "      <td>3.19</td>\n",
       "      <td>158.86</td>\n",
       "      <td>-0.24</td>\n",
       "    </tr>\n",
       "    <tr>\n",
       "      <th>3</th>\n",
       "      <td>3.29</td>\n",
       "      <td>152.31</td>\n",
       "      <td>0.01</td>\n",
       "    </tr>\n",
       "    <tr>\n",
       "      <th>4</th>\n",
       "      <td>3.31</td>\n",
       "      <td>167.55</td>\n",
       "      <td>-0.31</td>\n",
       "    </tr>\n",
       "    <tr>\n",
       "      <th>5</th>\n",
       "      <td>3.41</td>\n",
       "      <td>155.70</td>\n",
       "      <td>0.05</td>\n",
       "    </tr>\n",
       "    <tr>\n",
       "      <th>6</th>\n",
       "      <td>3.42</td>\n",
       "      <td>149.34</td>\n",
       "      <td>0.20</td>\n",
       "    </tr>\n",
       "    <tr>\n",
       "      <th>7</th>\n",
       "      <td>3.50</td>\n",
       "      <td>159.86</td>\n",
       "      <td>0.05</td>\n",
       "    </tr>\n",
       "    <tr>\n",
       "      <th>8</th>\n",
       "      <td>3.62</td>\n",
       "      <td>157.92</td>\n",
       "      <td>0.21</td>\n",
       "    </tr>\n",
       "  </tbody>\n",
       "</table>\n",
       "</div>"
      ],
      "text/plain": [
       "   True_GPA  Pred_GPA  residual_diff\n",
       "0      2.83    144.39          -0.28\n",
       "1      3.19    151.15          -0.07\n",
       "2      3.19    158.86          -0.24\n",
       "3      3.29    152.31           0.01\n",
       "4      3.31    167.55          -0.31\n",
       "5      3.41    155.70           0.05\n",
       "6      3.42    149.34           0.20\n",
       "7      3.50    159.86           0.05\n",
       "8      3.62    157.92           0.21"
      ]
     },
     "execution_count": 415,
     "metadata": {},
     "output_type": "execute_result"
    }
   ],
   "source": [
    "# residual_2 = pd.Series(filtered_score['GPA'] - pred_gpa)\n",
    "# # residual\n",
    "# residual_output_2 = pd.DataFrame({\n",
    "#    'True_GPA': filtered_score['GPA'],\n",
    "#     'Pred_GPA': pred_gpa,\n",
    "#     'residual_diff': residual\n",
    "# })\n",
    "# residual_output_2"
   ]
  },
  {
   "cell_type": "markdown",
   "id": "a0c8c842",
   "metadata": {},
   "source": [
    "OR USING SKLERN.LINEAR MODEL"
   ]
  },
  {
   "cell_type": "code",
   "execution_count": null,
   "id": "a1a7c788",
   "metadata": {},
   "outputs": [
    {
     "ename": "ValueError",
     "evalue": "x and y must be the same size",
     "output_type": "error",
     "traceback": [
      "\u001b[1;31m---------------------------------------------------------------------------\u001b[0m",
      "\u001b[1;31mValueError\u001b[0m                                Traceback (most recent call last)",
      "\u001b[1;32m~\\AppData\\Local\\Temp\\ipykernel_5732\\2773727161.py\u001b[0m in \u001b[0;36m<module>\u001b[1;34m\u001b[0m\n\u001b[1;32m----> 1\u001b[1;33m \u001b[0mplt\u001b[0m\u001b[1;33m.\u001b[0m\u001b[0mscatter\u001b[0m\u001b[1;33m(\u001b[0m\u001b[0my_train\u001b[0m\u001b[1;33m,\u001b[0m \u001b[0mpred_gpa\u001b[0m\u001b[1;33m)\u001b[0m\u001b[1;33m\u001b[0m\u001b[1;33m\u001b[0m\u001b[0m\n\u001b[0m",
      "\u001b[1;32mc:\\Users\\Teni\\anaconda3\\New folder\\lib\\site-packages\\matplotlib\\pyplot.py\u001b[0m in \u001b[0;36mscatter\u001b[1;34m(x, y, s, c, marker, cmap, norm, vmin, vmax, alpha, linewidths, edgecolors, plotnonfinite, data, **kwargs)\u001b[0m\n\u001b[0;32m   2817\u001b[0m         \u001b[0mvmin\u001b[0m\u001b[1;33m=\u001b[0m\u001b[1;32mNone\u001b[0m\u001b[1;33m,\u001b[0m \u001b[0mvmax\u001b[0m\u001b[1;33m=\u001b[0m\u001b[1;32mNone\u001b[0m\u001b[1;33m,\u001b[0m \u001b[0malpha\u001b[0m\u001b[1;33m=\u001b[0m\u001b[1;32mNone\u001b[0m\u001b[1;33m,\u001b[0m \u001b[0mlinewidths\u001b[0m\u001b[1;33m=\u001b[0m\u001b[1;32mNone\u001b[0m\u001b[1;33m,\u001b[0m \u001b[1;33m*\u001b[0m\u001b[1;33m,\u001b[0m\u001b[1;33m\u001b[0m\u001b[1;33m\u001b[0m\u001b[0m\n\u001b[0;32m   2818\u001b[0m         edgecolors=None, plotnonfinite=False, data=None, **kwargs):\n\u001b[1;32m-> 2819\u001b[1;33m     __ret = gca().scatter(\n\u001b[0m\u001b[0;32m   2820\u001b[0m         \u001b[0mx\u001b[0m\u001b[1;33m,\u001b[0m \u001b[0my\u001b[0m\u001b[1;33m,\u001b[0m \u001b[0ms\u001b[0m\u001b[1;33m=\u001b[0m\u001b[0ms\u001b[0m\u001b[1;33m,\u001b[0m \u001b[0mc\u001b[0m\u001b[1;33m=\u001b[0m\u001b[0mc\u001b[0m\u001b[1;33m,\u001b[0m \u001b[0mmarker\u001b[0m\u001b[1;33m=\u001b[0m\u001b[0mmarker\u001b[0m\u001b[1;33m,\u001b[0m \u001b[0mcmap\u001b[0m\u001b[1;33m=\u001b[0m\u001b[0mcmap\u001b[0m\u001b[1;33m,\u001b[0m \u001b[0mnorm\u001b[0m\u001b[1;33m=\u001b[0m\u001b[0mnorm\u001b[0m\u001b[1;33m,\u001b[0m\u001b[1;33m\u001b[0m\u001b[1;33m\u001b[0m\u001b[0m\n\u001b[0;32m   2821\u001b[0m         \u001b[0mvmin\u001b[0m\u001b[1;33m=\u001b[0m\u001b[0mvmin\u001b[0m\u001b[1;33m,\u001b[0m \u001b[0mvmax\u001b[0m\u001b[1;33m=\u001b[0m\u001b[0mvmax\u001b[0m\u001b[1;33m,\u001b[0m \u001b[0malpha\u001b[0m\u001b[1;33m=\u001b[0m\u001b[0malpha\u001b[0m\u001b[1;33m,\u001b[0m \u001b[0mlinewidths\u001b[0m\u001b[1;33m=\u001b[0m\u001b[0mlinewidths\u001b[0m\u001b[1;33m,\u001b[0m\u001b[1;33m\u001b[0m\u001b[1;33m\u001b[0m\u001b[0m\n",
      "\u001b[1;32mc:\\Users\\Teni\\anaconda3\\New folder\\lib\\site-packages\\matplotlib\\__init__.py\u001b[0m in \u001b[0;36minner\u001b[1;34m(ax, data, *args, **kwargs)\u001b[0m\n\u001b[0;32m   1410\u001b[0m     \u001b[1;32mdef\u001b[0m \u001b[0minner\u001b[0m\u001b[1;33m(\u001b[0m\u001b[0max\u001b[0m\u001b[1;33m,\u001b[0m \u001b[1;33m*\u001b[0m\u001b[0margs\u001b[0m\u001b[1;33m,\u001b[0m \u001b[0mdata\u001b[0m\u001b[1;33m=\u001b[0m\u001b[1;32mNone\u001b[0m\u001b[1;33m,\u001b[0m \u001b[1;33m**\u001b[0m\u001b[0mkwargs\u001b[0m\u001b[1;33m)\u001b[0m\u001b[1;33m:\u001b[0m\u001b[1;33m\u001b[0m\u001b[1;33m\u001b[0m\u001b[0m\n\u001b[0;32m   1411\u001b[0m         \u001b[1;32mif\u001b[0m \u001b[0mdata\u001b[0m \u001b[1;32mis\u001b[0m \u001b[1;32mNone\u001b[0m\u001b[1;33m:\u001b[0m\u001b[1;33m\u001b[0m\u001b[1;33m\u001b[0m\u001b[0m\n\u001b[1;32m-> 1412\u001b[1;33m             \u001b[1;32mreturn\u001b[0m \u001b[0mfunc\u001b[0m\u001b[1;33m(\u001b[0m\u001b[0max\u001b[0m\u001b[1;33m,\u001b[0m \u001b[1;33m*\u001b[0m\u001b[0mmap\u001b[0m\u001b[1;33m(\u001b[0m\u001b[0msanitize_sequence\u001b[0m\u001b[1;33m,\u001b[0m \u001b[0margs\u001b[0m\u001b[1;33m)\u001b[0m\u001b[1;33m,\u001b[0m \u001b[1;33m**\u001b[0m\u001b[0mkwargs\u001b[0m\u001b[1;33m)\u001b[0m\u001b[1;33m\u001b[0m\u001b[1;33m\u001b[0m\u001b[0m\n\u001b[0m\u001b[0;32m   1413\u001b[0m \u001b[1;33m\u001b[0m\u001b[0m\n\u001b[0;32m   1414\u001b[0m         \u001b[0mbound\u001b[0m \u001b[1;33m=\u001b[0m \u001b[0mnew_sig\u001b[0m\u001b[1;33m.\u001b[0m\u001b[0mbind\u001b[0m\u001b[1;33m(\u001b[0m\u001b[0max\u001b[0m\u001b[1;33m,\u001b[0m \u001b[1;33m*\u001b[0m\u001b[0margs\u001b[0m\u001b[1;33m,\u001b[0m \u001b[1;33m**\u001b[0m\u001b[0mkwargs\u001b[0m\u001b[1;33m)\u001b[0m\u001b[1;33m\u001b[0m\u001b[1;33m\u001b[0m\u001b[0m\n",
      "\u001b[1;32mc:\\Users\\Teni\\anaconda3\\New folder\\lib\\site-packages\\matplotlib\\axes\\_axes.py\u001b[0m in \u001b[0;36mscatter\u001b[1;34m(self, x, y, s, c, marker, cmap, norm, vmin, vmax, alpha, linewidths, edgecolors, plotnonfinite, **kwargs)\u001b[0m\n\u001b[0;32m   4360\u001b[0m         \u001b[0my\u001b[0m \u001b[1;33m=\u001b[0m \u001b[0mnp\u001b[0m\u001b[1;33m.\u001b[0m\u001b[0mma\u001b[0m\u001b[1;33m.\u001b[0m\u001b[0mravel\u001b[0m\u001b[1;33m(\u001b[0m\u001b[0my\u001b[0m\u001b[1;33m)\u001b[0m\u001b[1;33m\u001b[0m\u001b[1;33m\u001b[0m\u001b[0m\n\u001b[0;32m   4361\u001b[0m         \u001b[1;32mif\u001b[0m \u001b[0mx\u001b[0m\u001b[1;33m.\u001b[0m\u001b[0msize\u001b[0m \u001b[1;33m!=\u001b[0m \u001b[0my\u001b[0m\u001b[1;33m.\u001b[0m\u001b[0msize\u001b[0m\u001b[1;33m:\u001b[0m\u001b[1;33m\u001b[0m\u001b[1;33m\u001b[0m\u001b[0m\n\u001b[1;32m-> 4362\u001b[1;33m             \u001b[1;32mraise\u001b[0m \u001b[0mValueError\u001b[0m\u001b[1;33m(\u001b[0m\u001b[1;34m\"x and y must be the same size\"\u001b[0m\u001b[1;33m)\u001b[0m\u001b[1;33m\u001b[0m\u001b[1;33m\u001b[0m\u001b[0m\n\u001b[0m\u001b[0;32m   4363\u001b[0m \u001b[1;33m\u001b[0m\u001b[0m\n\u001b[0;32m   4364\u001b[0m         \u001b[1;32mif\u001b[0m \u001b[0ms\u001b[0m \u001b[1;32mis\u001b[0m \u001b[1;32mNone\u001b[0m\u001b[1;33m:\u001b[0m\u001b[1;33m\u001b[0m\u001b[1;33m\u001b[0m\u001b[0m\n",
      "\u001b[1;31mValueError\u001b[0m: x and y must be the same size"
     ]
    },
    {
     "data": {
      "image/png": "[encoded data removed]",
      "text/plain": [
       "<Figure size 640x480 with 1 Axes>"
      ]
     },
     "metadata": {},
     "output_type": "display_data"
    }
   ],
   "source": [
    "# plt.scatter(y_train, pred_gpa)"
   ]
  },
  {
   "cell_type": "code",
   "execution_count": null,
   "id": "27ad358b",
   "metadata": {},
   "outputs": [
    {
     "data": {
      "text/plain": [
       "3.0689495000000004"
      ]
     },
     "execution_count": 425,
     "metadata": {},
     "output_type": "execute_result"
    }
   ],
   "source": [
    "# sat_to_predict = 1664\n",
    "# pred_gpa_sat = 0.00156111*sat_to_predict + 0.47126246\n",
    "# pred_gpa_sat"
   ]
  },
  {
   "cell_type": "markdown",
   "id": "07a482a2",
   "metadata": {},
   "source": []
  },
  {
   "cell_type": "code",
   "execution_count": 426,
   "id": "0b07e2c6",
   "metadata": {},
   "outputs": [
    {
     "data": {
      "text/html": [
       "<div>\n",
       "<style scoped>\n",
       "    .dataframe tbody tr th:only-of-type {\n",
       "        vertical-align: middle;\n",
       "    }\n",
       "\n",
       "    .dataframe tbody tr th {\n",
       "        vertical-align: top;\n",
       "    }\n",
       "\n",
       "    .dataframe thead th {\n",
       "        text-align: right;\n",
       "    }\n",
       "</style>\n",
       "<table border=\"1\" class=\"dataframe\">\n",
       "  <thead>\n",
       "    <tr style=\"text-align: right;\">\n",
       "      <th></th>\n",
       "      <th>SAT</th>\n",
       "      <th>GPA</th>\n",
       "    </tr>\n",
       "  </thead>\n",
       "  <tbody>\n",
       "    <tr>\n",
       "      <th>0</th>\n",
       "      <td>1714</td>\n",
       "      <td>2.40</td>\n",
       "    </tr>\n",
       "    <tr>\n",
       "      <th>1</th>\n",
       "      <td>1664</td>\n",
       "      <td>2.52</td>\n",
       "    </tr>\n",
       "    <tr>\n",
       "      <th>2</th>\n",
       "      <td>1760</td>\n",
       "      <td>2.54</td>\n",
       "    </tr>\n",
       "    <tr>\n",
       "      <th>3</th>\n",
       "      <td>1685</td>\n",
       "      <td>2.74</td>\n",
       "    </tr>\n",
       "    <tr>\n",
       "      <th>4</th>\n",
       "      <td>1693</td>\n",
       "      <td>2.83</td>\n",
       "    </tr>\n",
       "    <tr>\n",
       "      <th>...</th>\n",
       "      <td>...</td>\n",
       "      <td>...</td>\n",
       "    </tr>\n",
       "    <tr>\n",
       "      <th>95</th>\n",
       "      <td>1934</td>\n",
       "      <td>3.54</td>\n",
       "    </tr>\n",
       "    <tr>\n",
       "      <th>96</th>\n",
       "      <td>1861</td>\n",
       "      <td>3.58</td>\n",
       "    </tr>\n",
       "    <tr>\n",
       "      <th>97</th>\n",
       "      <td>1931</td>\n",
       "      <td>3.58</td>\n",
       "    </tr>\n",
       "    <tr>\n",
       "      <th>98</th>\n",
       "      <td>1933</td>\n",
       "      <td>3.59</td>\n",
       "    </tr>\n",
       "    <tr>\n",
       "      <th>99</th>\n",
       "      <td>1778</td>\n",
       "      <td>3.59</td>\n",
       "    </tr>\n",
       "  </tbody>\n",
       "</table>\n",
       "<p>100 rows × 2 columns</p>\n",
       "</div>"
      ],
      "text/plain": [
       "     SAT   GPA\n",
       "0   1714  2.40\n",
       "1   1664  2.52\n",
       "2   1760  2.54\n",
       "3   1685  2.74\n",
       "4   1693  2.83\n",
       "..   ...   ...\n",
       "95  1934  3.54\n",
       "96  1861  3.58\n",
       "97  1931  3.58\n",
       "98  1933  3.59\n",
       "99  1778  3.59\n",
       "\n",
       "[100 rows x 2 columns]"
      ]
     },
     "execution_count": 426,
     "metadata": {},
     "output_type": "execute_result"
    }
   ],
   "source": [
    "score"
   ]
  },
  {
   "cell_type": "markdown",
   "id": "141aabb2",
   "metadata": {},
   "source": [
    "This means the predicted SAT score will be 1862\n",
    "\n",
    "As displayed below, it shows that this is close to the real GPA score of those around 3.4 from the original data"
   ]
  },
  {
   "cell_type": "code",
   "execution_count": null,
   "id": "e47cd682",
   "metadata": {},
   "outputs": [],
   "source": []
  },
  {
   "cell_type": "code",
   "execution_count": 112,
   "id": "2fe4277c",
   "metadata": {},
   "outputs": [],
   "source": [
    "# score[score['GPA'] == 3.4]"
   ]
  },
  {
   "cell_type": "markdown",
   "id": "6f113f30",
   "metadata": {},
   "source": [
    "<img src=\"./Images/istockphoto-487591111-612x612.jpg\" alt=\"Image\" style=\"width:100%;\">"
   ]
  }
 ],
 "metadata": {
  "kernelspec": {
   "display_name": "base",
   "language": "python",
   "name": "python3"
  },
  "language_info": {
   "codemirror_mode": {
    "name": "ipython",
    "version": 3
   },
   "file_extension": ".py",
   "mimetype": "text/x-python",
   "name": "python",
   "nbconvert_exporter": "python",
   "pygments_lexer": "ipython3",
   "version": "3.9.13"
  }
 },
 "nbformat": 4,
 "nbformat_minor": 5
}
